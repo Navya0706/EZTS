{
 "cells": [
  {
   "cell_type": "code",
   "execution_count": 1,
   "id": "5a4b0a7e-fba6-4ecc-9111-28ac39b6ce53",
   "metadata": {},
   "outputs": [
    {
     "name": "stdout",
     "output_type": "stream",
     "text": [
      "[False, False, False, False, False, False, False, False, False, False]\n",
      "[10, 100, 22, 50, 92, 79, 56, 47, False, 99]\n"
     ]
    }
   ],
   "source": [
    "#Hashing\n",
    "\n",
    "#Hashing\n",
    "k = [22,10,47,56,100,50,92,99,79]  \n",
    "hashList = [False for _ in range(10)]\n",
    "print(hashList)\n",
    "for e in k:\n",
    "    for j in range(len(k)):\n",
    "        x=((e%10)+j)%10\n",
    "        if hashList[x]==False:\n",
    "            hashList[x]=e\n",
    "            break\n",
    "\n",
    "print(hashList)"
   ]
  },
  {
   "cell_type": "code",
   "execution_count": 5,
   "id": "0009b730-4de6-4b87-a6f7-7d394cd10d3e",
   "metadata": {},
   "outputs": [
    {
     "name": "stdout",
     "output_type": "stream",
     "text": [
      "14\n"
     ]
    }
   ],
   "source": [
    "#Min cost Matrix\n",
    "\n",
    "arr = [\n",
    "    [1,2,2,3],\n",
    "    [3,1,4,2],\n",
    "    [1,5,3,3],\n",
    "    [1,2,1,1]\n",
    "]\n",
    "n=len(arr)-1\n",
    "m=len(arr[0])-1\n",
    "\n",
    "i=j=0\n",
    "\n",
    "sum = a[i][j]\n",
    "\n",
    "while i<n or j<m:\n",
    "    if i==n:\n",
    "        j+=1\n",
    "    elif j==m:\n",
    "        i+=1\n",
    "    elif a[i][j+1] < a[i+1][j]:\n",
    "        j+=1\n",
    "    else:\n",
    "        i+=1\n",
    "    sum += a[i][j]\n",
    "\n",
    "print(sum)"
   ]
  },
  {
   "cell_type": "code",
   "execution_count": null,
   "id": "3c09f31a-352e-49b7-aa45-1f6a30feecf1",
   "metadata": {},
   "outputs": [],
   "source": []
  }
 ],
 "metadata": {
  "kernelspec": {
   "display_name": "Python 3 (ipykernel)",
   "language": "python",
   "name": "python3"
  },
  "language_info": {
   "codemirror_mode": {
    "name": "ipython",
    "version": 3
   },
   "file_extension": ".py",
   "mimetype": "text/x-python",
   "name": "python",
   "nbconvert_exporter": "python",
   "pygments_lexer": "ipython3",
   "version": "3.11.7"
  }
 },
 "nbformat": 4,
 "nbformat_minor": 5
}
