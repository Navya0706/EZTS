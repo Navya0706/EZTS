{
 "cells": [
  {
   "cell_type": "markdown",
   "id": "6a4d2f5d-3bf5-4de8-868b-68c2a67e0b81",
   "metadata": {},
   "source": [
    "Stack - last in first out\n",
    "Queue - first in first out \n",
    "To create a stack/queue take a list - list=[    ]"
   ]
  },
  {
   "cell_type": "code",
   "execution_count": 3,
   "id": "dbdefebd-8f0e-45c4-9422-b0d4f4ec1fbc",
   "metadata": {},
   "outputs": [
    {
     "name": "stdout",
     "output_type": "stream",
     "text": [
      "[10, 20, 30, 40, 50]\n",
      "50\n",
      "[10, 20, 30, 40]\n",
      "4\n"
     ]
    }
   ],
   "source": [
    "#stack implementation\n",
    "class Stack:\n",
    "    def __init__(self):\n",
    "        self.items=[]\n",
    "    def push(self,data):\n",
    "        self.items.append(data)\n",
    "    def pop(self):\n",
    "        return self.items.pop()\n",
    "    def size(self):\n",
    "        return len(self.items)\n",
    "\n",
    "s=Stack()\n",
    "\n",
    "s.push(10)\n",
    "s.push(20)\n",
    "s.push(30)\n",
    "s.push(40)\n",
    "s.push(50)\n",
    "print(s.items)\n",
    "print(s.pop())\n",
    "print(s.items)\n",
    "print(s.size())\n"
   ]
  },
  {
   "cell_type": "code",
   "execution_count": 81,
   "id": "6c24d334-dc97-4387-8eea-950dd2c03534",
   "metadata": {},
   "outputs": [
    {
     "name": "stdin",
     "output_type": "stream",
     "text": [
      "enter exp: [3+7{52/11(3+5)}\n"
     ]
    },
    {
     "name": "stdout",
     "output_type": "stream",
     "text": [
      "valid\n"
     ]
    }
   ],
   "source": [
    "#program to check whether given exp has valid brackets or invalid\n",
    "e=input(\"enter exp:\")\n",
    "S=Stack()\n",
    "ob=\"[{(\"\n",
    "cb=\"]})\"\n",
    "flag=0\n",
    "for i in e:\n",
    "    if i in ob:\n",
    "        S.push(i)\n",
    "    if i in cb:\n",
    "        x=S.pop()\n",
    "        if x==\"[\" and i==\"]\":\n",
    "            pass\n",
    "        elif x==\"{\" and i==\"}\":\n",
    "            pass\n",
    "        elif x==\"(\" and i==\")\":\n",
    "            pass\n",
    "        else:\n",
    "            flag==1\n",
    "            break\n",
    "if flag==0:\n",
    "    print(\"valid\")\n",
    "else:\n",
    "    print(\"invalid\")\n",
    "        \n",
    "            "
   ]
  },
  {
   "cell_type": "code",
   "execution_count": 85,
   "id": "3744ddea-6d63-4420-a4da-d1e10e9ab2ae",
   "metadata": {},
   "outputs": [
    {
     "name": "stdin",
     "output_type": "stream",
     "text": [
      "Enter the expression:  [3+7{52/11(3+5)}]\n"
     ]
    },
    {
     "name": "stdout",
     "output_type": "stream",
     "text": [
      "valid\n"
     ]
    }
   ],
   "source": [
    "#valid parenthesis using dictionary\n",
    "exp = input(\"Enter the expression: \")\n",
    "stack = []\n",
    "bracket_map = {')': '(', '}': '{', ']': '['}\n",
    "valid = True\n",
    "for char in exp:\n",
    "    if char in '({[':  # If it's an opening bracket\n",
    "        stack.append(char)\n",
    "    elif char in ')}]':  # If it's a closing bracket\n",
    "        if not stack or stack[-1] != bracket_map[char]:\n",
    "            valid = False\n",
    "            break\n",
    "        stack.pop()  # Remove the matching opening bracket\n",
    "if stack:\n",
    "    valid = False\n",
    "\n",
    "if valid:\n",
    "    print(\"valid\")\n",
    "else:\n",
    "    print(\"invalid\")\n"
   ]
  },
  {
   "cell_type": "code",
   "execution_count": 129,
   "id": "98e2677e-d5a4-4094-aa9d-b66eb98a572b",
   "metadata": {},
   "outputs": [
    {
     "name": "stdout",
     "output_type": "stream",
     "text": [
      "using loops\n",
      "[3, 5, 2, 14, 5, 3, 7, 9, 4, 6, 9, 4, 2, 5, 3]\n",
      "[5, 14, 14, -1, 7, 7, 9, -1, 6, 9, -1, 5, 5, -1, -1]\n",
      "using stack\n",
      "[3, 5, 2, 14, 5, 3, 7, 9, 4, 6, 9, 4, 2, 5, 3]\n",
      "[5, 14, 14, -1, 7, 7, 9, -1, 6, 9, -1, 5, 5, -1, -1]\n"
     ]
    }
   ],
   "source": [
    "#next greater element\n",
    "l=[3,5,2,14,5,3,7,9,4,6,9,4,2,5,3]\n",
    "o=[]*len(l)\n",
    "for i in range(len(l)):\n",
    "    g=-1\n",
    "    for j in range(i+1,len(l)):\n",
    "        if l[i]<l[j]:\n",
    "            g=l[j]\n",
    "            break\n",
    "    o.append(g)  \n",
    "print(\"using loops\")\n",
    "print(l)\n",
    "print(o)  \n",
    "\n",
    "print(\"using stack\")\n",
    "l = [3, 5, 2, 14, 5, 3, 7, 9, 4, 6, 9, 4, 2, 5, 3]\n",
    "o = [-1] * len(l) \n",
    "stack = []\n",
    "for i in range(len(l)):\n",
    "    while stack and l[stack[-1]] < l[i]:\n",
    "        o[stack.pop()] = l[i]\n",
    "    stack.append(i)\n",
    "print(l)\n",
    "print(o)"
   ]
  },
  {
   "cell_type": "code",
   "execution_count": 133,
   "id": "8f3487a4-da72-4f4c-8459-b1176610923e",
   "metadata": {},
   "outputs": [
    {
     "name": "stdout",
     "output_type": "stream",
     "text": [
      "[10, 20, 30, 40, 50]\n",
      "10\n",
      "[20, 30, 40, 50]\n",
      "4\n"
     ]
    }
   ],
   "source": [
    "#queue implementation\n",
    "class Queue:\n",
    "    def __init__(self):\n",
    "        self.items = []\n",
    "    def enqueue(self, data):\n",
    "        self.items.append(data)\n",
    "    def dequeue(self):\n",
    "        if not self.is_empty():\n",
    "            return self.items.pop(0)\n",
    "        return None\n",
    "    def size(self):\n",
    "        return len(self.items)\n",
    "    def is_empty(self):\n",
    "        return len(self.items) == 0\n",
    "q = Queue()\n",
    "q.enqueue(10)\n",
    "q.enqueue(20)\n",
    "q.enqueue(30)\n",
    "q.enqueue(40)\n",
    "q.enqueue(50)\n",
    "print(q.items)         \n",
    "print(q.dequeue())     \n",
    "print(q.items)         \n",
    "print(q.size()) "
   ]
  },
  {
   "cell_type": "markdown",
   "id": "e0fffbe9-5d6b-4162-a969-e8f4265019f6",
   "metadata": {},
   "source": [
    "Pointer - its a variable that stores address of another variable\n",
    "size of a pointer is same as size as the variable\n",
    "if pointer is storing a class it has size of a class\n",
    "\n",
    "Linked list - "
   ]
  },
  {
   "cell_type": "code",
   "execution_count": 1,
   "id": "a3444f5d-e7c3-46f1-a886-0c644c9f83d4",
   "metadata": {},
   "outputs": [
    {
     "name": "stdout",
     "output_type": "stream",
     "text": [
      "<__main__.Node object at 0x0000021B13FFCB50>\n",
      "<__main__.Node object at 0x0000021B14078250>\n",
      "<__main__.Node object at 0x0000021B14078250>\n"
     ]
    }
   ],
   "source": [
    "#ll implementation\n",
    "class Node:\n",
    "    def __init__(self,data):\n",
    "        self.value=data\n",
    "        self.next=None\n",
    "\n",
    "Head=Tail=Node(10)\n",
    "\n",
    "Tail.next=Node(20)\n",
    "Tail=Tail.next\n",
    "\n",
    "Tail.next=Node(30)\n",
    "Tail=Tail.next\n",
    "\n",
    "Tail.next=Node(40)\n",
    "Tail=Tail.next\n",
    "print(Head)\n",
    "print(Tail)\n",
    "print(Head.next.next.next)"
   ]
  },
  {
   "cell_type": "code",
   "execution_count": 3,
   "id": "55327a56-818a-4621-b2c0-b4629811f4c3",
   "metadata": {},
   "outputs": [
    {
     "name": "stdout",
     "output_type": "stream",
     "text": [
      "10\n",
      "20\n",
      "30\n",
      "40\n"
     ]
    }
   ],
   "source": [
    "def print_link_list(Head):\n",
    "    if Head == None:\n",
    "        print(\"List is Empty\")\n",
    "        return\n",
    "    curr=Head\n",
    "    while curr !=None:\n",
    "        print(curr.value)\n",
    "        curr=curr.next\n",
    "        \n",
    "\n",
    "print_link_list(Head)"
   ]
  },
  {
   "cell_type": "code",
   "execution_count": 5,
   "id": "7e525c8e-070c-4130-bd70-28ab35401e23",
   "metadata": {},
   "outputs": [
    {
     "name": "stdin",
     "output_type": "stream",
     "text": [
      " 4.2+4\n"
     ]
    },
    {
     "name": "stdout",
     "output_type": "stream",
     "text": [
      "8.2\n"
     ]
    }
   ],
   "source": [
    "#Basic Calculator \n",
    "s=input()\n",
    "OP=['+','-','*','/']\n",
    "for i in s:\n",
    "    if i in OP:\n",
    "        x=i\n",
    "        s=s.replace(x,\" \")\n",
    "\n",
    "l=list(map(float,s.split()))\n",
    "\n",
    "match x:\n",
    "    case '+': print(l[0]+l[1])\n",
    "    case '-': print(l[0]-l[1])\n",
    "    case '*': print(l[0]*l[1])\n",
    "    case '/': print(l[0]/l[1])\n",
    "    case _ : print(\"Invalid Operator\")"
   ]
  },
  {
   "cell_type": "markdown",
   "id": "40747d8a-1327-4d7b-8a12-22db0c1443d0",
   "metadata": {},
   "source": []
  }
 ],
 "metadata": {
  "kernelspec": {
   "display_name": "Python 3 (ipykernel)",
   "language": "python",
   "name": "python3"
  },
  "language_info": {
   "codemirror_mode": {
    "name": "ipython",
    "version": 3
   },
   "file_extension": ".py",
   "mimetype": "text/x-python",
   "name": "python",
   "nbconvert_exporter": "python",
   "pygments_lexer": "ipython3",
   "version": "3.11.7"
  }
 },
 "nbformat": 4,
 "nbformat_minor": 5
}
