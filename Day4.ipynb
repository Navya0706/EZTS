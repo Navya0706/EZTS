{
 "cells": [
  {
   "cell_type": "code",
   "execution_count": 1,
   "id": "9d337e90-384b-45f7-b8b1-4394d59e131e",
   "metadata": {},
   "outputs": [
    {
     "name": "stdout",
     "output_type": "stream",
     "text": [
      "{'navya': ['A'], 'keerthi': ['I']}\n"
     ]
    }
   ],
   "source": [
    "def count_vowels(s): \n",
    "    dict={\"A\":0,\"E\":0,\"I\":0,\"O\":0,\"U\":0}\n",
    "    for i in s: \n",
    "        if i == \"a\" or i == \"A\": \n",
    "            dict['A']+=1\n",
    "        elif i == \"e\" or i == \"E\": \n",
    "            dict['E']+=1\n",
    "        elif i == \"i\" or i == \"I\": \n",
    "            dict['I']+=1\n",
    "        elif i == \"o\" or i == \"O\": \n",
    "            dict['O']+=1 \n",
    "        elif i == \"u\" or i == \"U\":\n",
    "            dict['U']+=1    \n",
    "    x=max(dict.values()) \n",
    "    result=[]\n",
    "    for i,j in dict.items(): \n",
    "        if j==x: \n",
    "            result.append(i)\n",
    "    return result\n",
    "\n",
    "i_p=[\n",
    "     [\"navya\",\"this is navyaa\"],\n",
    "     [\"keerthi\",\"this is keerthi\"]]\n",
    "op={}\n",
    "for i in i_p:\n",
    "    op[i[0]]=count_vowels(i[1])\n",
    "print(op)     \n"
   ]
  },
  {
   "cell_type": "code",
   "execution_count": 13,
   "id": "66688e3b-d681-42b4-a91e-2a07c9180eb2",
   "metadata": {},
   "outputs": [
    {
     "name": "stdout",
     "output_type": "stream",
     "text": [
      "17 4 6 7\n"
     ]
    }
   ],
   "source": [
    "#max sum of 3 consecutive numbers using sliding window\n",
    "l=[2,4,3,5,6,3,4,6,7,1,2,5]\n",
    "sum = max = 0\n",
    "for i in range(0,len(l)-2):\n",
    "    sum=l[i]+l[i+1]+l[i+2]\n",
    "    if max < sum:\n",
    "        max = sum\n",
    "        pos=i\n",
    "print(max,l[pos],l[pos+1],l[pos+2])"
   ]
  },
  {
   "cell_type": "code",
   "execution_count": 37,
   "id": "cb74dcaf-4f00-4c28-9591-3b07f92336ea",
   "metadata": {},
   "outputs": [
    {
     "name": "stdin",
     "output_type": "stream",
     "text": [
      "enter the numbers 4\n"
     ]
    },
    {
     "name": "stdout",
     "output_type": "stream",
     "text": [
      "20\n",
      "3\n",
      "4\n",
      "6\n",
      "7\n"
     ]
    }
   ],
   "source": [
    "#max sum of 3 consecutive numbers using sliding window\n",
    "l=[2,4,3,5,6,3,4,6,7,1,2,5]\n",
    "window = max = 0\n",
    "k=int(input(\"enter the numbers\"))\n",
    "for j in range(0,k):\n",
    "    window+=l[j]\n",
    "l.append(0)    \n",
    "for i in range(0,len(l)-k):   \n",
    "    if max < window:\n",
    "        max = window\n",
    "        pos=i\n",
    "    window=window+l[i+k]-l[i] \n",
    "print(max)\n",
    "for j in range(0,k):\n",
    "    print(l[pos+j])"
   ]
  },
  {
   "cell_type": "code",
   "execution_count": 21,
   "id": "5cb1f403-959b-4ce6-806a-a2b32098e20e",
   "metadata": {},
   "outputs": [
    {
     "name": "stdin",
     "output_type": "stream",
     "text": [
      "enter : 2 1 0 2 1\n"
     ]
    },
    {
     "name": "stdout",
     "output_type": "stream",
     "text": [
      "1\n"
     ]
    }
   ],
   "source": [
    "#checkpoint\n",
    "a=list(map(int,input(\"enter :\").split()))\n",
    "f=0\n",
    "for i in range(0,len(a)):\n",
    "    i1=i\n",
    "    j=i+1\n",
    "    s=0\n",
    "    s1=0\n",
    "    while(i>=0):\n",
    "        s=s+a[i]\n",
    "        i=i-1\n",
    "    while(j<len(a)):\n",
    "        s1=s1+a[j]\n",
    "        j=j+1\n",
    "    if(s==s1):\n",
    "        print(i1)\n",
    "        f=1\n",
    "        break\n",
    "if f==0:\n",
    "    print(len(a)//2)"
   ]
  },
  {
   "cell_type": "code",
   "execution_count": 82,
   "id": "d545aa5b-2b77-40b5-b842-4edb445b9273",
   "metadata": {},
   "outputs": [
    {
     "name": "stdin",
     "output_type": "stream",
     "text": [
      "Enter num to pick:  7\n"
     ]
    },
    {
     "name": "stdout",
     "output_type": "stream",
     "text": [
      "5\n"
     ]
    }
   ],
   "source": [
    "cards = [3, 4, 2, 2, 4, 7]\n",
    "x = int(input(\"Enter num to pick: \"))\n",
    "if x in cards:\n",
    "    for i in range(len(cards)):\n",
    "        if cards[i] == x:\n",
    "            print(i)\n",
    "else:\n",
    "    print(\"Invalid\")\n"
   ]
  },
  {
   "cell_type": "code",
   "execution_count": null,
   "id": "763ea16c-7c38-4103-9b7c-704a7802400e",
   "metadata": {},
   "outputs": [],
   "source": []
  }
 ],
 "metadata": {
  "kernelspec": {
   "display_name": "Python 3 (ipykernel)",
   "language": "python",
   "name": "python3"
  },
  "language_info": {
   "codemirror_mode": {
    "name": "ipython",
    "version": 3
   },
   "file_extension": ".py",
   "mimetype": "text/x-python",
   "name": "python",
   "nbconvert_exporter": "python",
   "pygments_lexer": "ipython3",
   "version": "3.11.7"
  }
 },
 "nbformat": 4,
 "nbformat_minor": 5
}
