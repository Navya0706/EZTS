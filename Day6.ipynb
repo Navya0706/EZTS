{
 "cells": [
  {
   "cell_type": "markdown",
   "id": "2f21a9be-ee04-4caf-9bd8-4f95a0aa07a0",
   "metadata": {},
   "source": [
    "SORTING - Arranging of data in asc or desc order\n",
    "Types- bubble,selection,insertion,quick and merge"
   ]
  },
  {
   "cell_type": "code",
   "execution_count": 20,
   "id": "0a843ff2-2345-4908-bd53-5c062af50e32",
   "metadata": {},
   "outputs": [
    {
     "name": "stdout",
     "output_type": "stream",
     "text": [
      "[10, 5, 7, 23, 15]\n",
      "[5, 7, 10, 15, 23]\n"
     ]
    }
   ],
   "source": [
    "# Bubble Sort - create list, compare i and i+1, if i > i+1, swap else keep it as it is\n",
    "l=[10,5,7,23,15]\n",
    "n=len(l)\n",
    "print(l)\n",
    "for j in range(0,n):\n",
    "    for i in range(0,n-1-j):\n",
    "        if l[i]>l[i+1]:\n",
    "            l[i],l[i+1]=l[i+1],l[i]  \n",
    "print(l)#sorted"
   ]
  },
  {
   "cell_type": "code",
   "execution_count": 53,
   "id": "eef08132-24a2-4526-b214-b39d6406b0da",
   "metadata": {},
   "outputs": [
    {
     "name": "stdout",
     "output_type": "stream",
     "text": [
      "[5, 7, 10, 15, 23]\n",
      "5\n",
      "23\n"
     ]
    }
   ],
   "source": [
    "#find min and max value in a list\n",
    "l=[10,5,7,23,15]\n",
    "l.sort()\n",
    "print(l)\n",
    "print(l[0])\n",
    "print(l[-1])"
   ]
  },
  {
   "cell_type": "code",
   "execution_count": 49,
   "id": "5e6a8ec9-89f2-4cd9-9d74-c7ebfe1cf293",
   "metadata": {},
   "outputs": [
    {
     "name": "stdout",
     "output_type": "stream",
     "text": [
      "2\n"
     ]
    }
   ],
   "source": [
    "#find min value in a list\n",
    "l=[10,2,5,7,23,15]\n",
    "n=len(l)\n",
    "min=l[0]\n",
    "for i in range(0,n):\n",
    "    if l[i]<min:\n",
    "        min=l[i]\n",
    "print(min)        "
   ]
  },
  {
   "cell_type": "code",
   "execution_count": 51,
   "id": "5d6411fe-0577-4c74-b013-fa2974b86b36",
   "metadata": {},
   "outputs": [
    {
     "name": "stdout",
     "output_type": "stream",
     "text": [
      "23\n"
     ]
    }
   ],
   "source": [
    "#find max value in a list\n",
    "l=[10,2,5,7,23,15]\n",
    "n=len(l)\n",
    "max=l[0]\n",
    "for i in range(0,n):\n",
    "    if l[i]>max:\n",
    "        max=l[i]\n",
    "print(max)        "
   ]
  },
  {
   "cell_type": "code",
   "execution_count": 69,
   "id": "a91401ff-d04c-495a-8db0-87f0d1b68a70",
   "metadata": {},
   "outputs": [
    {
     "name": "stdout",
     "output_type": "stream",
     "text": [
      "[2, 5, 7, 10, 15, 23]\n"
     ]
    }
   ],
   "source": [
    "#Selection sort - find min and put it at starting place by swapping\n",
    "l=[10,2,5,7,23,15]\n",
    "n=len(l)\n",
    "for j in range(0,n):\n",
    "    min=l[j]\n",
    "    pos=j\n",
    "    for i in range(j,n):\n",
    "        if l[i]<min:\n",
    "            min=l[i]\n",
    "            pos=i\n",
    "    l[j],l[pos]=l[pos],l[j]    \n",
    "        \n",
    "print(l)"
   ]
  },
  {
   "cell_type": "code",
   "execution_count": null,
   "id": "b7718e68-8088-421c-8b17-6f76a1d64af3",
   "metadata": {},
   "outputs": [],
   "source": [
    "#Insertion sort - check previous value is greater than current value swap it\n",
    "l=[10,2,5,7,23,15]\n",
    "n=len(l)\n",
    "for i in range(0,n):\n",
    "     min=l[i]\n",
    "    while\n"
   ]
  },
  {
   "cell_type": "markdown",
   "id": "398990ea-bebd-48e5-9d78-9bcd837a861f",
   "metadata": {},
   "source": [
    "RECURSION - Stack+Functions, has space complexity as function, comparitively has more space complexity\n",
    "using loops -                         Using recursion- calling itself\n",
    "n=10                                  def print_num(n)\n",
    "for i in range(n):                        if n<10:\n",
    "    print(i)                                print(n)\n",
    "                                            print_num(n+1)\n",
    "                                      print_num(0)"
   ]
  },
  {
   "cell_type": "code",
   "execution_count": 107,
   "id": "3f3f7685-ed46-4142-acb9-1854f2efa800",
   "metadata": {},
   "outputs": [
    {
     "name": "stdin",
     "output_type": "stream",
     "text": [
      " 5\n"
     ]
    },
    {
     "name": "stdout",
     "output_type": "stream",
     "text": [
      "3\n"
     ]
    }
   ],
   "source": [
    "#Fibonacci using recursion \n",
    "def fib(n):\n",
    "        if n==1:\n",
    "            return 0\n",
    "        elif n==2:\n",
    "            return 1\n",
    "        else:\n",
    "            return fib(n-1)+fib(n-2)\n",
    "if __name__ == \"__main__\":\n",
    "    n=int(input())\n",
    "    print(fib(n))\n",
    "            "
   ]
  },
  {
   "cell_type": "code",
   "execution_count": 103,
   "id": "fbeb81ce-098a-45f4-ad60-f303a9446b8c",
   "metadata": {},
   "outputs": [
    {
     "name": "stdin",
     "output_type": "stream",
     "text": [
      " 4\n"
     ]
    },
    {
     "name": "stdout",
     "output_type": "stream",
     "text": [
      "24\n"
     ]
    }
   ],
   "source": [
    "#factorial using recursion - n*fact(n-1)\n",
    "def fact(n):\n",
    "    if n==0:\n",
    "        return 1\n",
    "    else:\n",
    "        return n*fact(n-1)\n",
    "if __name__ == \"__main__\":\n",
    "    n=int(input())\n",
    "    print(fact(n))"
   ]
  },
  {
   "cell_type": "code",
   "execution_count": 5,
   "id": "1cd52864-3f57-42e7-b7ed-d610f93184e2",
   "metadata": {},
   "outputs": [
    {
     "name": "stdin",
     "output_type": "stream",
     "text": [
      "Enter the elements of the array:  5 7 8 3 9 13 6\n"
     ]
    },
    {
     "name": "stdout",
     "output_type": "stream",
     "text": [
      "Sorted Array = [3, 5, 6, 7, 8, 9, 13]\n"
     ]
    }
   ],
   "source": [
    "'''Quick Sort - combination of selection and insertion sort, \n",
    "quick sort has pivot element , select last element as pivot,\n",
    " if element is smaller than pivot then increment j by 1 and swap it with i , if element found is bigger than pivot then do nothing'''\n",
    "\n",
    "def divide(l, low, high):\n",
    "    pivot = l[high]\n",
    "    j = low - 1\n",
    "    for i in range(low, high):\n",
    "        if l[i] <= pivot:\n",
    "            j += 1\n",
    "            l[i], l[j] = l[j], l[i]\n",
    "    j += 1\n",
    "    l[j], l[high] = l[high], l[j]\n",
    "    return j\n",
    "\n",
    "def Quick_Sort(l, low, high):\n",
    "    if low < high:\n",
    "        pi = divide(l, low, high)\n",
    "        Quick_Sort(l, low, pi - 1)\n",
    "        Quick_Sort(l, pi + 1, high)\n",
    "    return\n",
    "\n",
    "if __name__ == \"__main__\":\n",
    "    l = list(map(int, input(\"Enter the elements of the array: \").split()))\n",
    "    Quick_Sort(l, 0, len(l) - 1)\n",
    "    print(\"Sorted Array =\", l)\n"
   ]
  },
  {
   "cell_type": "code",
   "execution_count": 5,
   "id": "53451dc0-46cb-4221-8269-47c9b31567a8",
   "metadata": {},
   "outputs": [
    {
     "name": "stdin",
     "output_type": "stream",
     "text": [
      " 7 6 9 3 5 2 8 4\n"
     ]
    },
    {
     "name": "stdout",
     "output_type": "stream",
     "text": [
      "Sorted Array =  [2, 3, 4, 5, 6, 7, 8, 9]\n"
     ]
    }
   ],
   "source": [
    "'''Merge sort - divide into half and make two parts and solve till end'''\n",
    "\n",
    "\n",
    "def merge(left,right):\n",
    "    i=j=0\n",
    "    temp=[]\n",
    "\n",
    "    while i<len(left) and j<len(right):\n",
    "        if left[i]<right[j]:\n",
    "            temp.append(left[i])\n",
    "            i+=1\n",
    "        else:\n",
    "            temp.append(right[j])\n",
    "            j+=1\n",
    "            \n",
    "    while i<len(left):\n",
    "        temp.append(left[i])\n",
    "        i+=1\n",
    "        \n",
    "    while j<len(right):\n",
    "        temp.append(right[j])\n",
    "        j+=1\n",
    "\n",
    "    return temp\n",
    "\n",
    "def mergesort(L):\n",
    "    if len(L) <= 1:\n",
    "        return L\n",
    "        \n",
    "    mid = len(L)//2\n",
    "    left=L[:mid] \n",
    "    right=L[mid:]\n",
    "    \n",
    "    left_sorted = mergesort(left)\n",
    "    right_sorted = mergesort(right)\n",
    "    \n",
    "    return merge(left_sorted,right_sorted)\n",
    "\n",
    "\n",
    "if __name__==\"__main__\":\n",
    "    L=list(map(int,input().split())) # 4 7 8 3 2 9 1 5\n",
    "    sorted=mergesort(L)\n",
    "\n",
    "    print(\"Sorted Array = \",sorted)\n",
    " "
   ]
  },
  {
   "cell_type": "code",
   "execution_count": null,
   "id": "809fcac1-e820-4eea-8b83-9f1d70d6234c",
   "metadata": {},
   "outputs": [],
   "source": []
  },
  {
   "cell_type": "code",
   "execution_count": null,
   "id": "8a7e62c1-4c36-411e-ac41-d6fd422255f3",
   "metadata": {},
   "outputs": [],
   "source": []
  },
  {
   "cell_type": "code",
   "execution_count": null,
   "id": "e5d081f2-c8b6-46ba-92f2-ab4968647ebc",
   "metadata": {},
   "outputs": [],
   "source": []
  }
 ],
 "metadata": {
  "kernelspec": {
   "display_name": "Python 3 (ipykernel)",
   "language": "python",
   "name": "python3"
  },
  "language_info": {
   "codemirror_mode": {
    "name": "ipython",
    "version": 3
   },
   "file_extension": ".py",
   "mimetype": "text/x-python",
   "name": "python",
   "nbconvert_exporter": "python",
   "pygments_lexer": "ipython3",
   "version": "3.11.7"
  }
 },
 "nbformat": 4,
 "nbformat_minor": 5
}
