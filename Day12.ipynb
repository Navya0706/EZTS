{
 "cells": [
  {
   "cell_type": "code",
   "execution_count": null,
   "id": "88dd00d8-2f20-456b-95b0-913c7da4a71a",
   "metadata": {},
   "outputs": [],
   "source": [
    "#greedy - knapsack\n",
    "\n",
    "def knapsack(capacity, weights, values, n):\n",
    "    K = [[0 for x in range(capacity + 1)] for x in range(n + 1)]\n",
    "\n",
    "    for i in range(n + 1):\n",
    "        for w in range(capacity + 1):\n",
    "            if i == 0 or w == 0:\n",
    "                K[i][w] = 0\n",
    "            elif weights[i-1] <= w:\n",
    "                K[i][w] = max(values[i-1] + K[i-1][w-weights[i-1]], K[i-1][w])\n",
    "            else:\n",
    "                K[i][w] = K[i-1][w]\n",
    "\n",
    "    res = K[n][capacity]\n",
    "    w = capacity\n",
    "    items_selected = [0] * n\n",
    "\n",
    "    for i in range(n, 0, -1):\n",
    "        if res <= 0:\n",
    "            break\n",
    "        if res == K[i-1][w]:\n",
    "            continue\n",
    "        else:\n",
    "            items_selected[i-1] = 1\n",
    "            res = res - values[i-1]\n",
    "            w = w - weights[i-1]\n",
    "\n",
    "    return K[n][capacity], items_selected\n",
    "\n",
    "def main():\n",
    "    n = int(input(\"Enter the number of items: \"))\n",
    "    weights = []\n",
    "    values = []\n",
    "    for i in range(n):\n",
    "        weight = int(input(f\"Enter weight of item {i+1}: \"))\n",
    "        value = int(input(f\"Enter value of item {i+1}: \"))\n",
    "        weights.append(weight)\n",
    "        values.append(value)\n",
    "    capacity = int(input(\"Enter the capacity of the knapsack: \"))\n",
    "\n",
    "    max_value, items_selected = knapsack(capacity, weights, values, n)\n",
    "    print(f\"The maximum value that can be put in a knapsack of capacity {capacity} is {max_value}\")\n",
    "    print(\"Items selected (1 for selected, 0 for not selected):\")\n",
    "    print(items_selected)\n",
    "\n",
    "if __name__ == \"__main__\":\n",
    "    main()"
   ]
  },
  {
   "cell_type": "code",
   "execution_count": null,
   "id": "b444d69f-4421-49f8-8b89-c86267053f00",
   "metadata": {},
   "outputs": [],
   "source": []
  },
  {
   "cell_type": "code",
   "execution_count": null,
   "id": "2ec1bb8b-6c16-48f7-880a-9e92af34f824",
   "metadata": {},
   "outputs": [],
   "source": []
  }
 ],
 "metadata": {
  "kernelspec": {
   "display_name": "Python 3 (ipykernel)",
   "language": "python",
   "name": "python3"
  },
  "language_info": {
   "codemirror_mode": {
    "name": "ipython",
    "version": 3
   },
   "file_extension": ".py",
   "mimetype": "text/x-python",
   "name": "python",
   "nbconvert_exporter": "python",
   "pygments_lexer": "ipython3",
   "version": "3.11.7"
  }
 },
 "nbformat": 4,
 "nbformat_minor": 5
}
