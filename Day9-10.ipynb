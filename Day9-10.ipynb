{
 "cells": [
  {
   "cell_type": "code",
   "execution_count": 27,
   "id": "7e5152be-0a7f-425c-93a1-0ea6ce2f8189",
   "metadata": {},
   "outputs": [
    {
     "name": "stdout",
     "output_type": "stream",
     "text": [
      "0\n",
      "7\n",
      "12\n",
      "17\n",
      "19\n",
      "21\n",
      "27\n",
      "29\n",
      "34\n",
      "38\n",
      "75\n",
      "99\n",
      "100\n",
      "134\n",
      "143\n"
     ]
    }
   ],
   "source": [
    "#AVL Trees:\n",
    "\n",
    "class node:\n",
    "    def __init__(self, data):\n",
    "        self.val = data\n",
    "        self.left = None\n",
    "        self.right = None\n",
    "        self.height = 1\n",
    "\n",
    "\n",
    "def insert(root, key):\n",
    "    if not root:\n",
    "        return node(key)\n",
    "    if key < root.val:\n",
    "        root.left = insert(root.left, key)\n",
    "    else:\n",
    "        root.right = insert(root.right, key)\n",
    "    \n",
    "    root.height = 1 + max(ght(root.left), ght(root.right))\n",
    "    bf = getbf(root)\n",
    "    \n",
    "    if bf > 1 and key < root.left.val:\n",
    "        return rightrotate(root)\n",
    "    if bf > 1 and key > root.left.val:\n",
    "        root.left = leftrotate(root.left)\n",
    "        return rightrotate(root)\n",
    "    if bf < -1 and key > root.right.val:\n",
    "        return leftrotate(root)\n",
    "    if bf < -1 and key < root.right.val:\n",
    "        root.right = rightrotate(root.right)\n",
    "        return leftrotate(root)\n",
    "\n",
    "    return root\n",
    "\n",
    "def ght(root):\n",
    "    if not root:\n",
    "        return 0\n",
    "    return root.height\n",
    "\n",
    "def inorder(root):\n",
    "    if not root:\n",
    "        return\n",
    "    inorder(root.left)\n",
    "    print(root.val)\n",
    "    inorder(root.right)\n",
    "\n",
    "def getbf(root):\n",
    "    if not root:\n",
    "        return 0\n",
    "    return ght(root.left) - ght(root.right)\n",
    "\n",
    "def leftrotate(a):\n",
    "    b = a.right\n",
    "    temp = b.left\n",
    "\n",
    "    b.left = a\n",
    "    a.right = temp\n",
    "\n",
    "    a.height = 1 + max(ght(a.left), ght(a.right))\n",
    "    b.height = 1 + max(ght(b.left), ght(b.right))\n",
    "\n",
    "    return b\n",
    "\n",
    "def rightrotate(a):\n",
    "    b = a.left\n",
    "    temp = b.right\n",
    "\n",
    "    b.right = a\n",
    "    a.left = temp\n",
    "\n",
    "    a.height = 1 + max(ght(a.left), ght(a.right))\n",
    "    b.height = 1 + max(ght(b.left), ght(b.right))\n",
    "\n",
    "    return b\n",
    "\n",
    "if __name__ == \"__main__\":\n",
    "    root = None\n",
    "    vl = [19, 99, 75, 7, 21, 34, 38, 27, 134, 100, 29, 0, 12, 17, 143]\n",
    "    for i in vl:\n",
    "        root = insert(root, i)\n",
    "    inorder(root)\n",
    "\n"
   ]
  },
  {
   "cell_type": "code",
   "execution_count": 1,
   "id": "b7961273-2666-421a-900a-6788826bccb0",
   "metadata": {},
   "outputs": [
    {
     "name": "stdout",
     "output_type": "stream",
     "text": [
      "2\n"
     ]
    }
   ],
   "source": [
    "l = [5,-10,-3,-5,6,2]\n",
    "n = float('inf')  # Initialize n to positive infinity\n",
    "\n",
    "for i in l:\n",
    "    if i > 0:\n",
    "        if i < n:\n",
    "            n = i\n",
    "\n",
    "if n == float('inf'):\n",
    "    print(0)\n",
    "else:\n",
    "    print(n)"
   ]
  },
  {
   "cell_type": "code",
   "execution_count": null,
   "id": "9bac7a4f-094e-4a19-8754-bde6289e39ad",
   "metadata": {},
   "outputs": [],
   "source": [
    "n = int(input())  \n",
    "\n",
    "count = 0\n",
    "\n",
    "for i in range(1, n + 1):\n",
    "    num = str(i)\n",
    "    if len(num) <= 3:  \n",
    "        count += 0\n",
    "    elif len(num) <= 6:  \n",
    "        count += 1\n",
    "    elif len(num) <= 9:  \n",
    "        count += 2\n",
    "\n",
    "print(count)"
   ]
  },
  {
   "cell_type": "code",
   "execution_count": null,
   "id": "528b0e40-9b2d-41c0-b441-6887101b9a8e",
   "metadata": {},
   "outputs": [],
   "source": [
    "l = [4,-1,-3,6,-2,-1,3,2,-8,-2]\n",
    "n = len(l)\n",
    "max_sum = float('-inf')  \n",
    "for i in range(n):\n",
    "    curr_sum = 0\n",
    "    for j in range(i, n):\n",
    "        curr_sum += l[j]\n",
    "        if curr_sum > max_sum:\n",
    "            max_sum = curr_sum\n",
    "\n",
    "print(max_sum)"
   ]
  },
  {
   "cell_type": "code",
   "execution_count": null,
   "id": "f17401c0-9c74-42a9-a4a2-395d017acd0e",
   "metadata": {},
   "outputs": [],
   "source": []
  }
 ],
 "metadata": {
  "kernelspec": {
   "display_name": "Python 3 (ipykernel)",
   "language": "python",
   "name": "python3"
  },
  "language_info": {
   "codemirror_mode": {
    "name": "ipython",
    "version": 3
   },
   "file_extension": ".py",
   "mimetype": "text/x-python",
   "name": "python",
   "nbconvert_exporter": "python",
   "pygments_lexer": "ipython3",
   "version": "3.11.7"
  }
 },
 "nbformat": 4,
 "nbformat_minor": 5
}
