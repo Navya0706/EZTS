{
 "cells": [
  {
   "cell_type": "code",
   "execution_count": 1,
   "id": "d91680b8-7c7e-4fb2-9d76-658a4c8a103e",
   "metadata": {},
   "outputs": [
    {
     "name": "stdout",
     "output_type": "stream",
     "text": [
      "Hash Table:\n",
      "Key: 22, Value: B\n",
      "Key: 4, Value: D\n",
      "Key: 15, Value: E\n",
      "Key: 31, Value: C\n",
      "Key: 10, Value: A\n",
      "\n",
      "Search for key 22:\n",
      "B\n",
      "\n",
      "Delete key 22:\n",
      "Key: 4, Value: D\n",
      "Key: 15, Value: E\n",
      "Key: 31, Value: C\n",
      "Key: 10, Value: A\n"
     ]
    }
   ],
   "source": [
    "#Double HAshing\n",
    "\n",
    "class DoubleHashingHashTable:\n",
    "    def __init__(self, size):\n",
    "        self.size = size\n",
    "        self.table = [None] * size\n",
    "        self.keys = [None] * size\n",
    "        self.values = [None] * size\n",
    "\n",
    "    def primary_hash(self, key):\n",
    "        return key % self.size\n",
    "\n",
    "    def secondary_hash(self, key):\n",
    "        return 1 + (key % (self.size - 1))\n",
    "\n",
    "    def insert(self, key, value):\n",
    "        index = self.primary_hash(key)\n",
    "        step_size = self.secondary_hash(key)\n",
    "\n",
    "        while self.table[index] is not None:\n",
    "            if self.table[index] == key:\n",
    "                self.values[index] = value\n",
    "                return\n",
    "            index = (index + step_size) % self.size\n",
    "\n",
    "        self.table[index] = key\n",
    "        self.values[index] = value\n",
    "\n",
    "    def search(self, key):\n",
    "        index = self.primary_hash(key)\n",
    "        step_size = self.secondary_hash(key)\n",
    "\n",
    "        while self.table[index] is not None:\n",
    "            if self.table[index] == key:\n",
    "                return self.values[index]\n",
    "            index = (index + step_size) % self.size\n",
    "\n",
    "        return None\n",
    "\n",
    "    def delete(self, key):\n",
    "        index = self.primary_hash(key)\n",
    "        step_size = self.secondary_hash(key)\n",
    "\n",
    "        while self.table[index] is not None:\n",
    "            if self.table[index] == key:\n",
    "                self.table[index] = None\n",
    "                self.keys[index] = None\n",
    "                self.values[index] = None\n",
    "                return\n",
    "            index = (index + step_size) % self.size\n",
    "\n",
    "    def display(self):\n",
    "        for i in range(self.size):\n",
    "            if self.table[i] is not None:\n",
    "                print(f\"Key: {self.table[i]}, Value: {self.values[i]}\")\n",
    "\n",
    "hash_table = DoubleHashingHashTable(11)\n",
    "hash_table.insert(10, 'A')\n",
    "hash_table.insert(22, 'B')\n",
    "hash_table.insert(31, 'C')\n",
    "hash_table.insert(4, 'D')\n",
    "hash_table.insert(15, 'E')\n",
    "\n",
    "print(\"Hash Table:\")\n",
    "hash_table.display()\n",
    "\n",
    "print(\"\\nSearch for key 22:\")\n",
    "print(hash_table.search(22))\n",
    "\n",
    "print(\"\\nDelete key 22:\")\n",
    "hash_table.delete(22)\n",
    "hash_table.display()\n"
   ]
  },
  {
   "cell_type": "code",
   "execution_count": 5,
   "id": "9d196ff1-da35-4982-ac9d-8881232d9973",
   "metadata": {},
   "outputs": [
    {
     "name": "stdout",
     "output_type": "stream",
     "text": [
      "4\n",
      "5\n",
      "-5\n"
     ]
    }
   ],
   "source": [
    "# Bit Manupulation -\n",
    "\n",
    "a=5\n",
    "b=4\n",
    "print(a&b)\n",
    "print(a|b)\n",
    "print(~b)\n"
   ]
  },
  {
   "cell_type": "code",
   "execution_count": 9,
   "id": "8b57e24f-342c-44c9-9642-7b2a53d19f1b",
   "metadata": {},
   "outputs": [
    {
     "name": "stdout",
     "output_type": "stream",
     "text": [
      "(3, 2)\n",
      "(2, 1)\n",
      "(1, 0)\n"
     ]
    }
   ],
   "source": [
    "q=4\n",
    "i=3\n",
    "for x in zip(range(q-1,-1,-1),range(i-1,-1,-1)):\n",
    "    print(x)"
   ]
  },
  {
   "cell_type": "code",
   "execution_count": 5,
   "id": "555c9dca-d3f0-40c7-be47-79c8762794b5",
   "metadata": {},
   "outputs": [
    {
     "name": "stdout",
     "output_type": "stream",
     "text": [
      "[3, 2, 1, 0]\n",
      "[3, 2, 1, 0]\n",
      "(3, 2)\n",
      "(2, 1)\n",
      "(1, 0)\n"
     ]
    }
   ],
   "source": [
    "q=4\n",
    "i=3\n",
    "x=list(range(q-1,-1,-1))\n",
    "y=list(range(q-1,-1,-1))\n",
    "print(x)\n",
    "print(y)\n",
    "for x in zip(range(q-1,-1,-1),range(i-1,-1,-1)):\n",
    "    print(x) "
   ]
  },
  {
   "cell_type": "code",
   "execution_count": 5,
   "id": "f84152e0-3947-4d7f-b036-414abe1427bb",
   "metadata": {},
   "outputs": [],
   "source": [
    "#Queens\n",
    "def printBoard(board):\n",
    "    pass\n",
    "def safe_pos(board,roe,col):\n",
    "    pass\n",
    "def check(board,row):\n",
    "    if row==n:\n",
    "        printBoard(board)\n",
    "    for col in range(0,n):\n",
    "        if safe_pos(board,row,col)==True:\n",
    "            board[row][col]=1\n",
    "            check(board,row-1)\n",
    "        board[row][col]=0\n",
    "board=[[0,0,0,0],\n",
    "       [0,0,0,0],\n",
    "       [0,0,0,0],\n",
    "       [0,0,0,0]]\n",
    "n=len(board)\n",
    "check(board,0)"
   ]
  },
  {
   "cell_type": "code",
   "execution_count": null,
   "id": "73a053e4-d133-42bf-bacf-55c2c8a13517",
   "metadata": {},
   "outputs": [],
   "source": []
  }
 ],
 "metadata": {
  "kernelspec": {
   "display_name": "Python 3 (ipykernel)",
   "language": "python",
   "name": "python3"
  },
  "language_info": {
   "codemirror_mode": {
    "name": "ipython",
    "version": 3
   },
   "file_extension": ".py",
   "mimetype": "text/x-python",
   "name": "python",
   "nbconvert_exporter": "python",
   "pygments_lexer": "ipython3",
   "version": "3.11.7"
  }
 },
 "nbformat": 4,
 "nbformat_minor": 5
}
