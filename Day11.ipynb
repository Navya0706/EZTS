{
 "cells": [
  {
   "cell_type": "code",
   "execution_count": 9,
   "id": "f7bfc82e-b4af-4b44-9a5e-bfb5a0d3aeed",
   "metadata": {},
   "outputs": [
    {
     "name": "stdout",
     "output_type": "stream",
     "text": [
      "{0: 5.0, 1: 3.3333333333333335, 2: 3.0, 3: 1.75, 4: 8.0, 5: 3.0, 6: 2.0}\n",
      "[(0, 5.0), (1, 3.3333333333333335), (2, 3.0), (3, 1.75), (4, 8.0), (5, 3.0), (6, 2.0)]\n",
      "3.0\n",
      "sorting using lambda function [(4, 8.0), (0, 5.0), (1, 3.3333333333333335), (2, 3.0), (5, 3.0), (6, 2.0), (3, 1.75)]\n",
      "[(4, 8.0), (0, 5.0), (1, 3.3333333333333335), (2, 3.0), (5, 3.0), (6, 2.0), (3, 1.75)]\n",
      "[(4, 8.0), (0, 5.0), (1, 3.3333333333333335), (2, 3.0), (5, 3.0), (6, 2.0), (3, 1.75)]\n"
     ]
    }
   ],
   "source": [
    "#Greedy Algo - is a way to find optimal solution by using predefined path\n",
    "\n",
    "p=[5,10,15,7,8,9,4]\n",
    "w=[1,3,5,4,1,3,2]\n",
    "\n",
    "p_w={}\n",
    "for i in range(len(p)):\n",
    "    p_w[i]=p[i]/w[i]\n",
    "\n",
    "print(p_w)\n",
    "\n",
    "L = list(p_w.items())\n",
    "\n",
    "print(L)\n",
    "\n",
    "n=len(L)\n",
    "\n",
    "B = lambda x:L[x][1]\n",
    "print(B(2))\n",
    "sorted_list = sorted(L,key=lambda x: x[1],reverse=True)\n",
    "print(\"sorting using lambda function\",sorted_list)\n",
    "\n",
    "L.sort(key=lambda x: x[1],reverse=True)\n",
    "\n",
    "for i in range(n-1):\n",
    "    max=i\n",
    "    for j in range(i+1,n):\n",
    "        if L[j][1] > L[max][1]:\n",
    "            max=j\n",
    "    L[i],L[max]=L[max],L[i]\n",
    "\n",
    "print(L)\n",
    "sorted_pw={}\n",
    "for i in L:\n",
    "    sorted_pw[i[0]]=i[1]\n",
    "print(sorted_list)"
   ]
  },
  {
   "cell_type": "code",
   "execution_count": 3,
   "id": "b2bed5fb-192d-44af-bda8-74c679cb10f3",
   "metadata": {},
   "outputs": [
    {
     "name": "stdout",
     "output_type": "stream",
     "text": [
      "400\n",
      "90\n"
     ]
    }
   ],
   "source": [
    "#lambda Function\n",
    "\n",
    "def a(x):\n",
    "    return x*x\n",
    "\n",
    "#def b(x):\n",
    "#    return x-4\n",
    "\n",
    "B = lambda x,y,z:x+y+z\n",
    "\n",
    "print(a(20))\n",
    "print(B(20,30,40))"
   ]
  },
  {
   "cell_type": "code",
   "execution_count": 15,
   "id": "2343f32a-5ba1-4036-a613-3aca2107b5a0",
   "metadata": {},
   "outputs": [
    {
     "name": "stdout",
     "output_type": "stream",
     "text": [
      "51\n"
     ]
    }
   ],
   "source": [
    "def cal_max(p, w, c, n):\n",
    "    # Create a 2D list to store the maximum values\n",
    "    dp = [[0 for _ in range(c + 1)] for _ in range(n + 1)]\n",
    "    \n",
    "    # Fill the dp table\n",
    "    for i in range(n + 1):\n",
    "        for j in range(c + 1):\n",
    "            if i == 0 or j == 0:\n",
    "                dp[i][j] = 0\n",
    "            elif w[i-1] <= j:\n",
    "                dp[i][j] = max_val(dp[i-1][j], p[i-1] + dp[i-1][j-w[i-1]])\n",
    "            else:\n",
    "                dp[i][j] = dp[i-1][j]\n",
    "    \n",
    "    return dp[n][c]\n",
    "\n",
    "def max_val(a, b):\n",
    "    return a if a > b else b\n",
    "\n",
    "# Test data\n",
    "p = [5, 10, 15, 7, 8, 9, 4]\n",
    "w = [1, 3, 5, 4, 1, 3, 2]\n",
    "c = 15\n",
    "n = len(p)\n",
    "\n",
    "# Call the function and print the result\n",
    "print(cal_max(p, w, c, n))\n"
   ]
  },
  {
   "cell_type": "code",
   "execution_count": 19,
   "id": "b58ea9c6-bb2f-4bed-a62f-a7a8715c0914",
   "metadata": {},
   "outputs": [
    {
     "name": "stdout",
     "output_type": "stream",
     "text": [
      "51\n",
      "[[-1, -1, -1, -1, -1, -1, -1, -1, -1, -1, -1, -1, -1, -1, -1, -1], [-1, 5, 5, 5, 5, 5, 5, 5, 5, 5, 5, 5, 5, 5, 5, 5], [-1, 5, 5, 10, 15, 15, 15, 15, 15, 15, 15, 15, 15, 15, 15, 15], [-1, -1, -1, -1, -1, 15, 20, 20, 25, 30, 30, 30, 30, 30, 30, 30], [-1, -1, -1, -1, -1, -1, -1, -1, -1, 30, 30, 30, 32, 37, 37, 37], [-1, -1, -1, -1, -1, -1, -1, -1, -1, -1, 38, -1, 38, 40, -1, 45], [-1, -1, -1, -1, -1, -1, -1, -1, -1, -1, -1, -1, -1, 47, -1, 47], [-1, -1, -1, -1, -1, -1, -1, -1, -1, -1, -1, -1, -1, -1, -1, 51]]\n"
     ]
    }
   ],
   "source": [
    "def calc_max(p, w, c, n):\n",
    "    if n == 0 or c == 0:\n",
    "        return 0\n",
    "    if dp[n][c] != -1:\n",
    "        return dp[n][c]\n",
    "    if w[n - 1] <= c:\n",
    "        dp[n][c] = max_val(p[n - 1] + calc_max(p, w, c - w[n - 1], n - 1), calc_max(p, w, c, n - 1))\n",
    "    else:\n",
    "        dp[n][c] = calc_max(p, w, c, n - 1)\n",
    "    return dp[n][c]\n",
    "\n",
    "def max_val(a, b):\n",
    "    return a if a > b else b\n",
    "\n",
    "p = [5, 10, 15, 7, 8, 9, 4]\n",
    "w = [1, 3, 5, 4, 1, 3, 2]\n",
    "c = 15\n",
    "n = len(p)\n",
    "\n",
    "\n",
    "dp = [[-1 for _ in range(c + 1)] for _ in range(n + 1)]\n",
    "\n",
    "print(calc_max(p, w, c, n))\n",
    "print(dp)\n"
   ]
  },
  {
   "cell_type": "code",
   "execution_count": null,
   "id": "47dc8032-f893-4c60-bf55-1f06e2c512b8",
   "metadata": {},
   "outputs": [],
   "source": []
  }
 ],
 "metadata": {
  "kernelspec": {
   "display_name": "Python 3 (ipykernel)",
   "language": "python",
   "name": "python3"
  },
  "language_info": {
   "codemirror_mode": {
    "name": "ipython",
    "version": 3
   },
   "file_extension": ".py",
   "mimetype": "text/x-python",
   "name": "python",
   "nbconvert_exporter": "python",
   "pygments_lexer": "ipython3",
   "version": "3.11.7"
  }
 },
 "nbformat": 4,
 "nbformat_minor": 5
}
